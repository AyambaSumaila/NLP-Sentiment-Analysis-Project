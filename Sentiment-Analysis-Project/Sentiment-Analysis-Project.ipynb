{
 "cells": [
  {
   "cell_type": "code",
   "execution_count": null,
   "id": "c281e0c1",
   "metadata": {},
   "outputs": [],
   "source": []
  },
  {
   "cell_type": "code",
   "execution_count": null,
   "id": "c750359d",
   "metadata": {},
   "outputs": [],
   "source": [
    "import pandas as pd\n",
    "import numpy as np\n",
    "import seaborn as sns\n",
    "import matplotlib.pyplot as plt\n",
    "import nltk\n"
   ]
  },
  {
   "cell_type": "code",
   "execution_count": null,
   "id": "b990b865",
   "metadata": {},
   "outputs": [],
   "source": [
    "#Reading in data\n",
    "df_reviews=pd.read_csv('Reviews.csv')\n"
   ]
  },
  {
   "cell_type": "code",
   "execution_count": null,
   "id": "d8cbf07e",
   "metadata": {},
   "outputs": [],
   "source": [
    "df_reviews.head()\n"
   ]
  },
  {
   "cell_type": "code",
   "execution_count": null,
   "id": "6be364c6",
   "metadata": {},
   "outputs": [],
   "source": []
  },
  {
   "cell_type": "markdown",
   "id": "202951f9",
   "metadata": {},
   "source": [
    "# Quick EDA"
   ]
  },
  {
   "cell_type": "code",
   "execution_count": null,
   "id": "de8600e0",
   "metadata": {},
   "outputs": [],
   "source": [
    "ax=df_reviews['Score'].value_counts().sort_index().plot(kind='bar', title='Count of Reviews by Stars', figsize=(10, 5))\n",
    "ax.set_xlabel('Review Stars')\n",
    "plt.show()"
   ]
  },
  {
   "cell_type": "code",
   "execution_count": null,
   "id": "e521e170",
   "metadata": {},
   "outputs": [],
   "source": []
  },
  {
   "cell_type": "markdown",
   "id": "da2b362c",
   "metadata": {},
   "source": [
    "# Basic NLTK"
   ]
  },
  {
   "cell_type": "code",
   "execution_count": null,
   "id": "f3f32b67",
   "metadata": {},
   "outputs": [],
   "source": [
    "example=df_reviews['Text'][40]"
   ]
  },
  {
   "cell_type": "code",
   "execution_count": null,
   "id": "96bee173",
   "metadata": {},
   "outputs": [],
   "source": [
    "print(example)"
   ]
  },
  {
   "cell_type": "code",
   "execution_count": null,
   "id": "d6bd3491",
   "metadata": {},
   "outputs": [],
   "source": [
    "tokenize=nltk.word_tokenize(example)"
   ]
  },
  {
   "cell_type": "code",
   "execution_count": null,
   "id": "a0081cd1",
   "metadata": {},
   "outputs": [],
   "source": [
    "#Sentences Tagging\n",
    "my_tagged=nltk.pos_tag(tokenize)\n",
    "tagged[:19]"
   ]
  },
  {
   "cell_type": "code",
   "execution_count": null,
   "id": "7e02500b",
   "metadata": {},
   "outputs": [],
   "source": [
    "entities=nltk.chunk.ne_chunk(tagged)\n",
    "entities.pprint()"
   ]
  },
  {
   "cell_type": "code",
   "execution_count": null,
   "id": "799f1f04",
   "metadata": {},
   "outputs": [],
   "source": []
  },
  {
   "cell_type": "code",
   "execution_count": null,
   "id": "0b68ea02",
   "metadata": {},
   "outputs": [],
   "source": [
    "#Sentiment Analyser\n",
    "from nltk.sentiment import SentimentIntensityAnalyzer\n",
    "from tqdm.notebook import tqdm\n",
    "\n",
    "my_sia=SentimentIntensityAnalyzer()\n"
   ]
  },
  {
   "cell_type": "code",
   "execution_count": null,
   "id": "cb461cf4",
   "metadata": {},
   "outputs": [],
   "source": [
    "my_sia.polarity_scores('I am so sad! ')"
   ]
  },
  {
   "cell_type": "code",
   "execution_count": null,
   "id": "989e7eef",
   "metadata": {},
   "outputs": [],
   "source": [
    "#Run the polarity score on the entire dataset\n",
    "\n",
    "for i, row in tqdm(df.iterrows(), total=len(df)):\n",
    "    text=row['Text']\n",
    "    myId=row['Id']\n",
    "    \n",
    "    result[myId] =my_sia.polarity_scores[text]\n",
    "    "
   ]
  },
  {
   "cell_type": "code",
   "execution_count": null,
   "id": "8a0e1699",
   "metadata": {},
   "outputs": [],
   "source": [
    "vaders=pd.DataFrame(result).T\n",
    "vaders.reset_index().rename(colums={'index':'Id'})\n",
    "vaders=vaders.merge(df, how='left')\n"
   ]
  },
  {
   "cell_type": "markdown",
   "id": "e77bf0ef",
   "metadata": {},
   "source": [
    "# Plot VADER Results"
   ]
  },
  {
   "cell_type": "code",
   "execution_count": null,
   "id": "a018a4ff",
   "metadata": {},
   "outputs": [],
   "source": [
    "ax=sns.barplot(data=vaders, x='Score', y='compound')\n",
    "ax.set_title('Compound Score by Amazon Star Review ')\n",
    "plt.show()"
   ]
  },
  {
   "cell_type": "code",
   "execution_count": null,
   "id": "951a16c4",
   "metadata": {},
   "outputs": [],
   "source": []
  },
  {
   "cell_type": "code",
   "execution_count": null,
   "id": "13342269",
   "metadata": {},
   "outputs": [],
   "source": []
  },
  {
   "cell_type": "code",
   "execution_count": null,
   "id": "4802875f",
   "metadata": {},
   "outputs": [],
   "source": [
    "fig, axs=plt.subplots(1, 3, figsize=(15, 5))\n",
    "sns.barplot(data=vaders, x='Score', y='pos', axs[0])\n",
    "sns.barplot(data=vaders, x='Score', y='neu', axs[1])\n",
    "sns.barplot(data=vaders, x='Score', y='neg', axs[2])\n",
    "axs[0].set_title('Positive')\n",
    "axs[1].set_title('Neutral')\n",
    "axs[2].set_title('Negative')\n",
    "plt.tight_layout()\n",
    "plt.show()"
   ]
  },
  {
   "cell_type": "code",
   "execution_count": null,
   "id": "42179ed1",
   "metadata": {},
   "outputs": [],
   "source": []
  },
  {
   "cell_type": "markdown",
   "id": "2f206aab",
   "metadata": {},
   "source": [
    "# Roberta Pretrained Model"
   ]
  },
  {
   "cell_type": "code",
   "execution_count": null,
   "id": "fd802e60",
   "metadata": {},
   "outputs": [],
   "source": [
    "from transformer import AutoTokenizer\n",
    "from transformers import AutoModelForSequenceClassification\n",
    "from scipy.special import softmax\n"
   ]
  },
  {
   "cell_type": "code",
   "execution_count": null,
   "id": "1b855306",
   "metadata": {},
   "outputs": [],
   "source": []
  },
  {
   "cell_type": "code",
   "execution_count": null,
   "id": "f8ef4468",
   "metadata": {},
   "outputs": [],
   "source": [
    "MODEL=f'cardiffnlp/twitter-roberta-base-sentiment'\n",
    "tokenizer=AutoTokenizer.from_pretrained(MODEL)\n",
    "model=AutoModelForSequenceClassification.from_pretrained(MODEL)"
   ]
  },
  {
   "cell_type": "code",
   "execution_count": null,
   "id": "57713e4f",
   "metadata": {},
   "outputs": [],
   "source": []
  },
  {
   "cell_type": "code",
   "execution_count": null,
   "id": "3bde39c9",
   "metadata": {},
   "outputs": [],
   "source": [
    "#Run for Roberta Model\n",
    "encoded_text=tokenizer(example, return_tensors='pt')\n",
    "output=model(**encodedd_text)\n",
    "scores=output[0][0].detach().numpy()\n",
    "scores=softmax(scores)\n",
    "scores_dict = {\n",
    "    'roberta_neg':scores[0],\n",
    "    'roberta_neu':scores[1],\n",
    "    'roberta_pos':scores[2]\n",
    "}\n",
    "\n",
    "print(scores_dict)"
   ]
  },
  {
   "cell_type": "code",
   "execution_count": null,
   "id": "069bf27d",
   "metadata": {},
   "outputs": [],
   "source": []
  },
  {
   "cell_type": "code",
   "execution_count": null,
   "id": "617aefa7",
   "metadata": {},
   "outputs": [],
   "source": [
    "def polarity_scores_roberta(example):\n",
    "    encoded_text=tokenizer(example, return_tensors='pt')\n",
    "    output=model(**encodedd_text)\n",
    "    scores=output[0][0].detach().numpy()\n",
    "    scores=softmax(scores)\n",
    "    scores_dict = {\n",
    "    'roberta_neg':scores[0],\n",
    "    'roberta_neu':scores[1],\n",
    "    'roberta_pos':scores[2]\n",
    "    }\n",
    "\n",
    "    return (scores_dict)\n",
    "    "
   ]
  },
  {
   "cell_type": "code",
   "execution_count": null,
   "id": "56e24e60",
   "metadata": {},
   "outputs": [],
   "source": []
  },
  {
   "cell_type": "code",
   "execution_count": null,
   "id": "30378398",
   "metadata": {},
   "outputs": [],
   "source": []
  },
  {
   "cell_type": "code",
   "execution_count": null,
   "id": "80ebdf42",
   "metadata": {},
   "outputs": [],
   "source": [
    "result={}\n",
    "for i, row in tqdm(df.iterrows(), total=len(df)):\n",
    "    text=row['Text']\n",
    "    myId=row['Id']\n",
    "    \n",
    "    vader_result =my_sia.polarity_scores[text]\n",
    "    roberta_result=polarity_scores_roberta(text)\n",
    "    break"
   ]
  },
  {
   "cell_type": "code",
   "execution_count": null,
   "id": "3478c329",
   "metadata": {},
   "outputs": [],
   "source": []
  },
  {
   "cell_type": "code",
   "execution_count": null,
   "id": "79f7bbdc",
   "metadata": {},
   "outputs": [],
   "source": []
  },
  {
   "cell_type": "code",
   "execution_count": null,
   "id": "164eb9a8",
   "metadata": {},
   "outputs": [],
   "source": []
  },
  {
   "cell_type": "code",
   "execution_count": null,
   "id": "15a5581d",
   "metadata": {},
   "outputs": [],
   "source": []
  },
  {
   "cell_type": "code",
   "execution_count": null,
   "id": "5f86c9dc",
   "metadata": {},
   "outputs": [],
   "source": []
  },
  {
   "cell_type": "code",
   "execution_count": null,
   "id": "5c489efb",
   "metadata": {},
   "outputs": [],
   "source": []
  }
 ],
 "metadata": {
  "kernelspec": {
   "display_name": "Python 3",
   "language": "python",
   "name": "python3"
  },
  "language_info": {
   "codemirror_mode": {
    "name": "ipython",
    "version": 3
   },
   "file_extension": ".py",
   "mimetype": "text/x-python",
   "name": "python",
   "nbconvert_exporter": "python",
   "pygments_lexer": "ipython3",
   "version": "3.8.8"
  }
 },
 "nbformat": 4,
 "nbformat_minor": 5
}
